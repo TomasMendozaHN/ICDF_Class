{
 "cells": [
  {
   "cell_type": "markdown",
   "id": "9b48cfd7-657e-4a2b-93af-37c9865f6584",
   "metadata": {},
   "source": [
    "# Import Libraries"
   ]
  },
  {
   "cell_type": "code",
   "execution_count": null,
   "id": "94053ce2-3814-4f44-88fe-79aa0fcc42d0",
   "metadata": {},
   "outputs": [],
   "source": [
    "from IPython.display import display, Image\n",
    "import ipywidgets as widgets\n",
    "import numpy as np\n",
    "import threading\n",
    "import cv2"
   ]
  },
  {
   "cell_type": "markdown",
   "id": "b3b12f0f-ef3c-4423-85cb-5f940e117b8f",
   "metadata": {},
   "source": [
    "# Read Camera and show"
   ]
  },
  {
   "cell_type": "code",
   "execution_count": null,
   "id": "7f3f40ce-0b2f-48d6-9162-6edf44e6d284",
   "metadata": {},
   "outputs": [],
   "source": [
    "# View Function\n",
    "def view(button):\n",
    "    cap = cv2.VideoCapture(0)\n",
    "    display_handle=display(None, display_id=True)\n",
    "    i = 0\n",
    "    while True:\n",
    "        _, frame = cap.read()\n",
    "        frame = cv2.flip(frame, 1) # if your camera reverses your image\n",
    "        _, frame = cv2.imencode('.jpeg', frame)\n",
    "        display_handle.update(Image(data=frame.tobytes()))\n",
    "        \n",
    "        # If you press the button, stop the stream!\n",
    "        if stopButton.value==True:\n",
    "            cap.release()\n",
    "            display_handle.update(None)"
   ]
  },
  {
   "cell_type": "code",
   "execution_count": null,
   "id": "ecdb2d49-f046-445f-b19a-d090a7c13e95",
   "metadata": {},
   "outputs": [],
   "source": [
    "stopButton = widgets.ToggleButton(\n",
    "    value=False,\n",
    "    description='Stop',\n",
    "    disabled=False,\n",
    "    button_style='danger', # 'success', 'info', 'warning', 'danger' or ''\n",
    "    tooltip='Description',\n",
    "    icon='square' # (FontAwesome names without the `fa-` prefix)\n",
    ")\n",
    "          \n",
    "display(stopButton)\n",
    "thread = threading.Thread(target=view, args=(stopButton,))\n",
    "thread.start()"
   ]
  },
  {
   "cell_type": "markdown",
   "id": "50ce5046-2ec9-49b7-96ad-130a139bf514",
   "metadata": {},
   "source": [
    "# Apply Canny Edge Detector"
   ]
  },
  {
   "cell_type": "code",
   "execution_count": null,
   "id": "c95dc54c-9809-4a26-8d05-076a47f10534",
   "metadata": {},
   "outputs": [],
   "source": [
    "def viewCanny(button):\n",
    "    # View Function\n",
    "    cap = cv2.VideoCapture(0)\n",
    "    \n",
    "    display_orig=display(None, display_id=True)\n",
    "    display_handle=display(None, display_id=True)\n",
    "    \n",
    "    i = 0\n",
    "    while True:\n",
    "        _, frame = cap.read()\n",
    "        frame = cv2.flip(frame, 1) # if your camera reverses your image\n",
    "        \n",
    "        # Apply Canny Edge Detector\n",
    "        canny = cv2.Canny(frame, 10, 200)\n",
    "        \n",
    "        _, frame_orig = cv2.imencode('.jpeg', frame)\n",
    "        _, frame_proc = cv2.imencode('.jpeg', canny)\n",
    "\n",
    "        display_handle.update(Image(data=frame_proc.tobytes()))\n",
    "        display_orig.update(Image(data=frame_orig.tobytes()))\n",
    "\n",
    "        # If you press the button, stop the stream!\n",
    "        if stopButton.value==True:\n",
    "            cap.release()\n",
    "            display_handle.update(None)"
   ]
  },
  {
   "cell_type": "code",
   "execution_count": null,
   "id": "11e5194c-7e78-457d-b25e-f61df25a4d04",
   "metadata": {},
   "outputs": [],
   "source": [
    "stopButton = widgets.ToggleButton(\n",
    "    value=False,\n",
    "    description='Stop',\n",
    "    disabled=False,\n",
    "    button_style='danger', # 'success', 'info', 'warning', 'danger' or ''\n",
    "    tooltip='Description',\n",
    "    icon='square' # (FontAwesome names without the `fa-` prefix)\n",
    ")\n",
    "          \n",
    "display(stopButton)\n",
    "thread = threading.Thread(target=viewCanny, args=(stopButton,))\n",
    "thread.start()"
   ]
  },
  {
   "cell_type": "markdown",
   "id": "af525a4f-e367-4dca-8213-bec6b25cdc07",
   "metadata": {},
   "source": [
    "# Show Faster RCNN Results"
   ]
  },
  {
   "cell_type": "code",
   "execution_count": null,
   "id": "a7eca304-78e3-4979-9f5a-2cf56beb101f",
   "metadata": {},
   "outputs": [],
   "source": []
  }
 ],
 "metadata": {
  "kernelspec": {
   "display_name": "Python 3",
   "language": "python",
   "name": "python3"
  },
  "language_info": {
   "codemirror_mode": {
    "name": "ipython",
    "version": 3
   },
   "file_extension": ".py",
   "mimetype": "text/x-python",
   "name": "python",
   "nbconvert_exporter": "python",
   "pygments_lexer": "ipython3",
   "version": "3.8.8"
  }
 },
 "nbformat": 4,
 "nbformat_minor": 5
}
