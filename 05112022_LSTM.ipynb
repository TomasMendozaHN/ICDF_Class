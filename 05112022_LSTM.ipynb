{
  "nbformat": 4,
  "nbformat_minor": 0,
  "metadata": {
    "colab": {
      "name": "05112022_LSTM.ipynb",
      "provenance": [],
      "authorship_tag": "ABX9TyMPDmtsedtxX1PuwB1bvaU4",
      "include_colab_link": true
    },
    "kernelspec": {
      "name": "python3",
      "display_name": "Python 3"
    },
    "language_info": {
      "name": "python"
    }
  },
  "cells": [
    {
      "cell_type": "markdown",
      "metadata": {
        "id": "view-in-github",
        "colab_type": "text"
      },
      "source": [
        "<a href=\"https://colab.research.google.com/github/TomasMendozaHN/ICDF_Class/blob/main/05112022_LSTM.ipynb\" target=\"_parent\"><img src=\"https://colab.research.google.com/assets/colab-badge.svg\" alt=\"Open In Colab\"/></a>"
      ]
    },
    {
      "cell_type": "code",
      "execution_count": 1,
      "metadata": {
        "colab": {
          "resources": {
            "http://localhost:8080/nbextensions/google.colab/files.js": {
              "data": "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",
              "ok": true,
              "headers": [
                [
                  "content-type",
                  "application/javascript"
                ]
              ],
              "status": 200,
              "status_text": ""
            }
          },
          "base_uri": "https://localhost:8080/",
          "height": 73
        },
        "id": "njhOipjwIR-h",
        "outputId": "c20f3720-2982-4f87-aa0b-2ecc767edec7"
      },
      "outputs": [
        {
          "output_type": "display_data",
          "data": {
            "text/plain": [
              "<IPython.core.display.HTML object>"
            ],
            "text/html": [
              "\n",
              "     <input type=\"file\" id=\"files-5ea37e93-acbe-4c5c-adca-e52211424323\" name=\"files[]\" multiple disabled\n",
              "        style=\"border:none\" />\n",
              "     <output id=\"result-5ea37e93-acbe-4c5c-adca-e52211424323\">\n",
              "      Upload widget is only available when the cell has been executed in the\n",
              "      current browser session. Please rerun this cell to enable.\n",
              "      </output>\n",
              "      <script src=\"/nbextensions/google.colab/files.js\"></script> "
            ]
          },
          "metadata": {}
        },
        {
          "output_type": "stream",
          "name": "stdout",
          "text": [
            "Saving kaggle.json to kaggle.json\n"
          ]
        }
      ],
      "source": [
        "from google.colab import files\n",
        "uploaded = files.upload()"
      ]
    },
    {
      "cell_type": "code",
      "source": [
        "!mkdir ~/.kaggle #mkdir = make directory\n",
        "!cp kaggle.json ~/.kaggle/  # cp = copy\n",
        "!chmod 600 ~/.kaggle/kaggle.json"
      ],
      "metadata": {
        "id": "1W9cyYH4KntG"
      },
      "execution_count": 2,
      "outputs": []
    },
    {
      "cell_type": "code",
      "source": [
        "!kaggle datasets download -d szrlee/stock-time-series-20050101-to-20171231"
      ],
      "metadata": {
        "colab": {
          "base_uri": "https://localhost:8080/"
        },
        "id": "lPirSFdfKytj",
        "outputId": "77a8ffb7-cac4-45c3-ba4b-bafd69bb4744"
      },
      "execution_count": 3,
      "outputs": [
        {
          "output_type": "stream",
          "name": "stdout",
          "text": [
            "Downloading stock-time-series-20050101-to-20171231.zip to /content\n",
            "\r  0% 0.00/3.03M [00:00<?, ?B/s]\n",
            "\r100% 3.03M/3.03M [00:00<00:00, 58.1MB/s]\n"
          ]
        }
      ]
    },
    {
      "cell_type": "code",
      "source": [
        "!unzip stock-time-series-20050101-to-20171231.zip"
      ],
      "metadata": {
        "colab": {
          "base_uri": "https://localhost:8080/"
        },
        "id": "It9nZb4oLIVD",
        "outputId": "8e6d69b1-06cd-411f-dfb5-b83f9cd3f7ad"
      },
      "execution_count": 4,
      "outputs": [
        {
          "output_type": "stream",
          "name": "stdout",
          "text": [
            "Archive:  stock-time-series-20050101-to-20171231.zip\n",
            "  inflating: AABA_2006-01-01_to_2018-01-01.csv  \n",
            "  inflating: AAPL_2006-01-01_to_2018-01-01.csv  \n",
            "  inflating: AMZN_2006-01-01_to_2018-01-01.csv  \n",
            "  inflating: AXP_2006-01-01_to_2018-01-01.csv  \n",
            "  inflating: BA_2006-01-01_to_2018-01-01.csv  \n",
            "  inflating: CAT_2006-01-01_to_2018-01-01.csv  \n",
            "  inflating: CSCO_2006-01-01_to_2018-01-01.csv  \n",
            "  inflating: CVX_2006-01-01_to_2018-01-01.csv  \n",
            "  inflating: DIS_2006-01-01_to_2018-01-01.csv  \n",
            "  inflating: GE_2006-01-01_to_2018-01-01.csv  \n",
            "  inflating: GOOGL_2006-01-01_to_2018-01-01.csv  \n",
            "  inflating: GS_2006-01-01_to_2018-01-01.csv  \n",
            "  inflating: HD_2006-01-01_to_2018-01-01.csv  \n",
            "  inflating: IBM_2006-01-01_to_2018-01-01.csv  \n",
            "  inflating: INTC_2006-01-01_to_2018-01-01.csv  \n",
            "  inflating: JNJ_2006-01-01_to_2018-01-01.csv  \n",
            "  inflating: JPM_2006-01-01_to_2018-01-01.csv  \n",
            "  inflating: KO_2006-01-01_to_2018-01-01.csv  \n",
            "  inflating: MCD_2006-01-01_to_2018-01-01.csv  \n",
            "  inflating: MMM_2006-01-01_to_2018-01-01.csv  \n",
            "  inflating: MRK_2006-01-01_to_2018-01-01.csv  \n",
            "  inflating: MSFT_2006-01-01_to_2018-01-01.csv  \n",
            "  inflating: NKE_2006-01-01_to_2018-01-01.csv  \n",
            "  inflating: PFE_2006-01-01_to_2018-01-01.csv  \n",
            "  inflating: PG_2006-01-01_to_2018-01-01.csv  \n",
            "  inflating: TRV_2006-01-01_to_2018-01-01.csv  \n",
            "  inflating: UNH_2006-01-01_to_2018-01-01.csv  \n",
            "  inflating: UTX_2006-01-01_to_2018-01-01.csv  \n",
            "  inflating: VZ_2006-01-01_to_2018-01-01.csv  \n",
            "  inflating: WMT_2006-01-01_to_2018-01-01.csv  \n",
            "  inflating: XOM_2006-01-01_to_2018-01-01.csv  \n",
            "  inflating: all_stocks_2006-01-01_to_2018-01-01.csv  \n",
            "  inflating: all_stocks_2017-01-01_to_2018-01-01.csv  \n"
          ]
        }
      ]
    },
    {
      "cell_type": "code",
      "source": [
        "import numpy as np\n",
        "import pandas as pd"
      ],
      "metadata": {
        "id": "fvBpJZymMs8c"
      },
      "execution_count": 5,
      "outputs": []
    },
    {
      "cell_type": "code",
      "source": [
        "import os\n",
        "for filename in os.listdir():\n",
        "  if filename.endswith('.csv'):\n",
        "    print(filename)"
      ],
      "metadata": {
        "colab": {
          "base_uri": "https://localhost:8080/"
        },
        "id": "mpNxAGBfMyGK",
        "outputId": "108ec5f1-51b5-4265-a664-3eb8a93c99ad"
      },
      "execution_count": 6,
      "outputs": [
        {
          "output_type": "stream",
          "name": "stdout",
          "text": [
            "VZ_2006-01-01_to_2018-01-01.csv\n",
            "NKE_2006-01-01_to_2018-01-01.csv\n",
            "CAT_2006-01-01_to_2018-01-01.csv\n",
            "DIS_2006-01-01_to_2018-01-01.csv\n",
            "GE_2006-01-01_to_2018-01-01.csv\n",
            "JPM_2006-01-01_to_2018-01-01.csv\n",
            "KO_2006-01-01_to_2018-01-01.csv\n",
            "UNH_2006-01-01_to_2018-01-01.csv\n",
            "JNJ_2006-01-01_to_2018-01-01.csv\n",
            "WMT_2006-01-01_to_2018-01-01.csv\n",
            "GS_2006-01-01_to_2018-01-01.csv\n",
            "UTX_2006-01-01_to_2018-01-01.csv\n",
            "MMM_2006-01-01_to_2018-01-01.csv\n",
            "TRV_2006-01-01_to_2018-01-01.csv\n",
            "CSCO_2006-01-01_to_2018-01-01.csv\n",
            "IBM_2006-01-01_to_2018-01-01.csv\n",
            "XOM_2006-01-01_to_2018-01-01.csv\n",
            "MRK_2006-01-01_to_2018-01-01.csv\n",
            "PFE_2006-01-01_to_2018-01-01.csv\n",
            "CVX_2006-01-01_to_2018-01-01.csv\n",
            "INTC_2006-01-01_to_2018-01-01.csv\n",
            "MSFT_2006-01-01_to_2018-01-01.csv\n",
            "AXP_2006-01-01_to_2018-01-01.csv\n",
            "all_stocks_2017-01-01_to_2018-01-01.csv\n",
            "GOOGL_2006-01-01_to_2018-01-01.csv\n",
            "MCD_2006-01-01_to_2018-01-01.csv\n",
            "AMZN_2006-01-01_to_2018-01-01.csv\n",
            "BA_2006-01-01_to_2018-01-01.csv\n",
            "AABA_2006-01-01_to_2018-01-01.csv\n",
            "PG_2006-01-01_to_2018-01-01.csv\n",
            "AAPL_2006-01-01_to_2018-01-01.csv\n",
            "HD_2006-01-01_to_2018-01-01.csv\n",
            "all_stocks_2006-01-01_to_2018-01-01.csv\n"
          ]
        }
      ]
    },
    {
      "cell_type": "code",
      "source": [
        "filepath = 'AMZN_2006-01-01_to_2018-01-01.csv'\n",
        "data = pd.read_csv(filepath)\n",
        "data = data.sort_values('Date')\n",
        "data.head()"
      ],
      "metadata": {
        "colab": {
          "base_uri": "https://localhost:8080/",
          "height": 206
        },
        "id": "CJX59xcjONlq",
        "outputId": "f21bb637-e1c2-4c0d-aacd-f9530592b352"
      },
      "execution_count": 7,
      "outputs": [
        {
          "output_type": "execute_result",
          "data": {
            "text/plain": [
              "         Date   Open   High    Low  Close   Volume  Name\n",
              "0  2006-01-03  47.47  47.85  46.25  47.58  7582127  AMZN\n",
              "1  2006-01-04  47.48  47.73  46.69  47.25  7440914  AMZN\n",
              "2  2006-01-05  47.16  48.20  47.11  47.65  5417258  AMZN\n",
              "3  2006-01-06  47.97  48.58  47.32  47.87  6154285  AMZN\n",
              "4  2006-01-09  46.55  47.10  46.40  47.08  8945056  AMZN"
            ],
            "text/html": [
              "\n",
              "  <div id=\"df-eddb97d8-8bc1-4214-98e8-68b29553af28\">\n",
              "    <div class=\"colab-df-container\">\n",
              "      <div>\n",
              "<style scoped>\n",
              "    .dataframe tbody tr th:only-of-type {\n",
              "        vertical-align: middle;\n",
              "    }\n",
              "\n",
              "    .dataframe tbody tr th {\n",
              "        vertical-align: top;\n",
              "    }\n",
              "\n",
              "    .dataframe thead th {\n",
              "        text-align: right;\n",
              "    }\n",
              "</style>\n",
              "<table border=\"1\" class=\"dataframe\">\n",
              "  <thead>\n",
              "    <tr style=\"text-align: right;\">\n",
              "      <th></th>\n",
              "      <th>Date</th>\n",
              "      <th>Open</th>\n",
              "      <th>High</th>\n",
              "      <th>Low</th>\n",
              "      <th>Close</th>\n",
              "      <th>Volume</th>\n",
              "      <th>Name</th>\n",
              "    </tr>\n",
              "  </thead>\n",
              "  <tbody>\n",
              "    <tr>\n",
              "      <th>0</th>\n",
              "      <td>2006-01-03</td>\n",
              "      <td>47.47</td>\n",
              "      <td>47.85</td>\n",
              "      <td>46.25</td>\n",
              "      <td>47.58</td>\n",
              "      <td>7582127</td>\n",
              "      <td>AMZN</td>\n",
              "    </tr>\n",
              "    <tr>\n",
              "      <th>1</th>\n",
              "      <td>2006-01-04</td>\n",
              "      <td>47.48</td>\n",
              "      <td>47.73</td>\n",
              "      <td>46.69</td>\n",
              "      <td>47.25</td>\n",
              "      <td>7440914</td>\n",
              "      <td>AMZN</td>\n",
              "    </tr>\n",
              "    <tr>\n",
              "      <th>2</th>\n",
              "      <td>2006-01-05</td>\n",
              "      <td>47.16</td>\n",
              "      <td>48.20</td>\n",
              "      <td>47.11</td>\n",
              "      <td>47.65</td>\n",
              "      <td>5417258</td>\n",
              "      <td>AMZN</td>\n",
              "    </tr>\n",
              "    <tr>\n",
              "      <th>3</th>\n",
              "      <td>2006-01-06</td>\n",
              "      <td>47.97</td>\n",
              "      <td>48.58</td>\n",
              "      <td>47.32</td>\n",
              "      <td>47.87</td>\n",
              "      <td>6154285</td>\n",
              "      <td>AMZN</td>\n",
              "    </tr>\n",
              "    <tr>\n",
              "      <th>4</th>\n",
              "      <td>2006-01-09</td>\n",
              "      <td>46.55</td>\n",
              "      <td>47.10</td>\n",
              "      <td>46.40</td>\n",
              "      <td>47.08</td>\n",
              "      <td>8945056</td>\n",
              "      <td>AMZN</td>\n",
              "    </tr>\n",
              "  </tbody>\n",
              "</table>\n",
              "</div>\n",
              "      <button class=\"colab-df-convert\" onclick=\"convertToInteractive('df-eddb97d8-8bc1-4214-98e8-68b29553af28')\"\n",
              "              title=\"Convert this dataframe to an interactive table.\"\n",
              "              style=\"display:none;\">\n",
              "        \n",
              "  <svg xmlns=\"http://www.w3.org/2000/svg\" height=\"24px\"viewBox=\"0 0 24 24\"\n",
              "       width=\"24px\">\n",
              "    <path d=\"M0 0h24v24H0V0z\" fill=\"none\"/>\n",
              "    <path d=\"M18.56 5.44l.94 2.06.94-2.06 2.06-.94-2.06-.94-.94-2.06-.94 2.06-2.06.94zm-11 1L8.5 8.5l.94-2.06 2.06-.94-2.06-.94L8.5 2.5l-.94 2.06-2.06.94zm10 10l.94 2.06.94-2.06 2.06-.94-2.06-.94-.94-2.06-.94 2.06-2.06.94z\"/><path d=\"M17.41 7.96l-1.37-1.37c-.4-.4-.92-.59-1.43-.59-.52 0-1.04.2-1.43.59L10.3 9.45l-7.72 7.72c-.78.78-.78 2.05 0 2.83L4 21.41c.39.39.9.59 1.41.59.51 0 1.02-.2 1.41-.59l7.78-7.78 2.81-2.81c.8-.78.8-2.07 0-2.86zM5.41 20L4 18.59l7.72-7.72 1.47 1.35L5.41 20z\"/>\n",
              "  </svg>\n",
              "      </button>\n",
              "      \n",
              "  <style>\n",
              "    .colab-df-container {\n",
              "      display:flex;\n",
              "      flex-wrap:wrap;\n",
              "      gap: 12px;\n",
              "    }\n",
              "\n",
              "    .colab-df-convert {\n",
              "      background-color: #E8F0FE;\n",
              "      border: none;\n",
              "      border-radius: 50%;\n",
              "      cursor: pointer;\n",
              "      display: none;\n",
              "      fill: #1967D2;\n",
              "      height: 32px;\n",
              "      padding: 0 0 0 0;\n",
              "      width: 32px;\n",
              "    }\n",
              "\n",
              "    .colab-df-convert:hover {\n",
              "      background-color: #E2EBFA;\n",
              "      box-shadow: 0px 1px 2px rgba(60, 64, 67, 0.3), 0px 1px 3px 1px rgba(60, 64, 67, 0.15);\n",
              "      fill: #174EA6;\n",
              "    }\n",
              "\n",
              "    [theme=dark] .colab-df-convert {\n",
              "      background-color: #3B4455;\n",
              "      fill: #D2E3FC;\n",
              "    }\n",
              "\n",
              "    [theme=dark] .colab-df-convert:hover {\n",
              "      background-color: #434B5C;\n",
              "      box-shadow: 0px 1px 3px 1px rgba(0, 0, 0, 0.15);\n",
              "      filter: drop-shadow(0px 1px 2px rgba(0, 0, 0, 0.3));\n",
              "      fill: #FFFFFF;\n",
              "    }\n",
              "  </style>\n",
              "\n",
              "      <script>\n",
              "        const buttonEl =\n",
              "          document.querySelector('#df-eddb97d8-8bc1-4214-98e8-68b29553af28 button.colab-df-convert');\n",
              "        buttonEl.style.display =\n",
              "          google.colab.kernel.accessAllowed ? 'block' : 'none';\n",
              "\n",
              "        async function convertToInteractive(key) {\n",
              "          const element = document.querySelector('#df-eddb97d8-8bc1-4214-98e8-68b29553af28');\n",
              "          const dataTable =\n",
              "            await google.colab.kernel.invokeFunction('convertToInteractive',\n",
              "                                                     [key], {});\n",
              "          if (!dataTable) return;\n",
              "\n",
              "          const docLinkHtml = 'Like what you see? Visit the ' +\n",
              "            '<a target=\"_blank\" href=https://colab.research.google.com/notebooks/data_table.ipynb>data table notebook</a>'\n",
              "            + ' to learn more about interactive tables.';\n",
              "          element.innerHTML = '';\n",
              "          dataTable['output_type'] = 'display_data';\n",
              "          await google.colab.output.renderOutput(dataTable, element);\n",
              "          const docLink = document.createElement('div');\n",
              "          docLink.innerHTML = docLinkHtml;\n",
              "          element.appendChild(docLink);\n",
              "        }\n",
              "      </script>\n",
              "    </div>\n",
              "  </div>\n",
              "  "
            ]
          },
          "metadata": {},
          "execution_count": 7
        }
      ]
    },
    {
      "cell_type": "markdown",
      "source": [
        "# Visualize Amazon's Stock Price"
      ],
      "metadata": {
        "id": "LgrJLOiAO9-W"
      }
    },
    {
      "cell_type": "code",
      "source": [
        "import matplotlib.pyplot as plt\n",
        "import seaborn as sns\n",
        "\n",
        "sns.set_style(\"darkgrid\")\n",
        "plt.figure(figsize = (15,9))\n",
        "plt.plot(data[['Close']])\n",
        "plt.xticks(range(0,data.shape[0],500),data['Date'].loc[::500],rotation=45)\n",
        "plt.title(\"Amazon Stock Price\",fontsize=18, fontweight='bold')\n",
        "plt.xlabel('Date',fontsize=18)\n",
        "plt.ylabel('Close Price (USD)',fontsize=18)\n",
        "plt.show()"
      ],
      "metadata": {
        "colab": {
          "base_uri": "https://localhost:8080/",
          "height": 617
        },
        "id": "-Ek-shOdO4K0",
        "outputId": "e50e2d9e-27bb-4230-9ba9-446f2adebde5"
      },
      "execution_count": 8,
      "outputs": [
        {
          "output_type": "display_data",
          "data": {
            "text/plain": [
              "<Figure size 1080x648 with 1 Axes>"
            ],
            "image/png": "[encoded data removed]"
          },
          "metadata": {}
        }
      ]
    },
    {
      "cell_type": "code",
      "source": [
        "price = data[['Close']]\n",
        "price.info()"
      ],
      "metadata": {
        "colab": {
          "base_uri": "https://localhost:8080/"
        },
        "id": "DGYakCyRO7hF",
        "outputId": "986e579d-2195-4519-8a2a-3925b7a7b1db"
      },
      "execution_count": 9,
      "outputs": [
        {
          "output_type": "stream",
          "name": "stdout",
          "text": [
            "<class 'pandas.core.frame.DataFrame'>\n",
            "Int64Index: 3019 entries, 0 to 3018\n",
            "Data columns (total 1 columns):\n",
            " #   Column  Non-Null Count  Dtype  \n",
            "---  ------  --------------  -----  \n",
            " 0   Close   3019 non-null   float64\n",
            "dtypes: float64(1)\n",
            "memory usage: 47.2 KB\n"
          ]
        }
      ]
    },
    {
      "cell_type": "code",
      "source": [
        "price['Close']"
      ],
      "metadata": {
        "colab": {
          "base_uri": "https://localhost:8080/"
        },
        "id": "hLKK7_LQP5o-",
        "outputId": "19915b34-1d81-4fe8-9736-3b477b3c9fbf"
      },
      "execution_count": 10,
      "outputs": [
        {
          "output_type": "execute_result",
          "data": {
            "text/plain": [
              "0         47.58\n",
              "1         47.25\n",
              "2         47.65\n",
              "3         47.87\n",
              "4         47.08\n",
              "         ...   \n",
              "3014    1168.36\n",
              "3015    1176.76\n",
              "3016    1182.26\n",
              "3017    1186.10\n",
              "3018    1169.47\n",
              "Name: Close, Length: 3019, dtype: float64"
            ]
          },
          "metadata": {},
          "execution_count": 10
        }
      ]
    },
    {
      "cell_type": "code",
      "source": [
        "from sklearn.preprocessing import MinMaxScaler\n",
        "\n",
        "scaler = MinMaxScaler(feature_range=(-1, 1))\n",
        "price['Close'] = scaler.fit_transform(price['Close'].values.reshape(-1,1))"
      ],
      "metadata": {
        "colab": {
          "base_uri": "https://localhost:8080/"
        },
        "id": "NpEfF6OEPRwD",
        "outputId": "ad92246d-1d0a-4ed5-b70c-97c80edba678"
      },
      "execution_count": 11,
      "outputs": [
        {
          "output_type": "stream",
          "name": "stderr",
          "text": [
            "/usr/local/lib/python3.7/dist-packages/ipykernel_launcher.py:4: SettingWithCopyWarning: \n",
            "A value is trying to be set on a copy of a slice from a DataFrame.\n",
            "Try using .loc[row_indexer,col_indexer] = value instead\n",
            "\n",
            "See the caveats in the documentation: https://pandas.pydata.org/pandas-docs/stable/user_guide/indexing.html#returning-a-view-versus-a-copy\n",
            "  after removing the cwd from sys.path.\n"
          ]
        }
      ]
    },
    {
      "cell_type": "code",
      "source": [
        "price['Close']"
      ],
      "metadata": {
        "colab": {
          "base_uri": "https://localhost:8080/"
        },
        "id": "vOqmIdjzPbfG",
        "outputId": "9bc68884-54fb-4526-9082-83668b7d0a5f"
      },
      "execution_count": 12,
      "outputs": [
        {
          "output_type": "execute_result",
          "data": {
            "text/plain": [
              "0      -0.963223\n",
              "1      -0.963787\n",
              "2      -0.963104\n",
              "3      -0.962727\n",
              "4      -0.964078\n",
              "          ...   \n",
              "3014    0.953033\n",
              "3015    0.967395\n",
              "3016    0.976799\n",
              "3017    0.983364\n",
              "3018    0.954931\n",
              "Name: Close, Length: 3019, dtype: float64"
            ]
          },
          "metadata": {},
          "execution_count": 12
        }
      ]
    },
    {
      "cell_type": "markdown",
      "source": [
        "# Example how to prepare the data:"
      ],
      "metadata": {
        "id": "mNI5t2ikTIOg"
      }
    },
    {
      "cell_type": "code",
      "source": [
        "stock_data_raw = price.to_numpy()\n",
        "print(stock_data_raw.shape)\n",
        "\n",
        "data_temp = []\n",
        "\n",
        "for index in range(len(stock_data_raw) - 20):\n",
        "  data_temp.append(stock_data_raw[index: index + 20])\n",
        "\n",
        "data_temp = np.array(data_temp)\n",
        "print(data_temp[0])\n",
        "print(data_temp[1])"
      ],
      "metadata": {
        "colab": {
          "base_uri": "https://localhost:8080/"
        },
        "id": "_10Jl13eTHZI",
        "outputId": "b00246ba-3477-412f-c3ae-1357341ae0f2"
      },
      "execution_count": 22,
      "outputs": [
        {
          "output_type": "stream",
          "name": "stdout",
          "text": [
            "(3019, 1)\n",
            "[[-0.96322323]\n",
            " [-0.96378744]\n",
            " [-0.96310354]\n",
            " [-0.9627274 ]\n",
            " [-0.9640781 ]\n",
            " [-0.96652305]\n",
            " [-0.96775407]\n",
            " [-0.96872863]\n",
            " [-0.96866024]\n",
            " [-0.96934414]\n",
            " [-0.96879702]\n",
            " [-0.96857475]\n",
            " [-0.96948092]\n",
            " [-0.96980577]\n",
            " [-0.96930994]\n",
            " [-0.97002804]\n",
            " [-0.96818151]\n",
            " [-0.96725824]\n",
            " [-0.96770278]\n",
            " [-0.96794214]]\n",
            "[[-0.96378744]\n",
            " [-0.96310354]\n",
            " [-0.9627274 ]\n",
            " [-0.9640781 ]\n",
            " [-0.96652305]\n",
            " [-0.96775407]\n",
            " [-0.96872863]\n",
            " [-0.96866024]\n",
            " [-0.96934414]\n",
            " [-0.96879702]\n",
            " [-0.96857475]\n",
            " [-0.96948092]\n",
            " [-0.96980577]\n",
            " [-0.96930994]\n",
            " [-0.97002804]\n",
            " [-0.96818151]\n",
            " [-0.96725824]\n",
            " [-0.96770278]\n",
            " [-0.96794214]\n",
            " [-0.96937833]]\n"
          ]
        }
      ]
    },
    {
      "cell_type": "code",
      "source": [
        "def split_data(stock, lookback):\n",
        "    data_raw = stock.to_numpy() # convert to numpy array\n",
        "    data = []\n",
        "    \n",
        "    # create all possible sequences of length seq_len\n",
        "    for index in range(len(data_raw) - lookback): \n",
        "        data.append(data_raw[index: index + lookback])\n",
        "    \n",
        "    data = np.array(data);\n",
        "    test_set_size = int(np.round(0.2*data.shape[0]));\n",
        "    train_set_size = data.shape[0] - (test_set_size);\n",
        "    \n",
        "    x_train = data[:train_set_size,:-1,:]\n",
        "    y_train = data[:train_set_size,-1,:]\n",
        "    \n",
        "    x_test = data[train_set_size:,:-1]\n",
        "    y_test = data[train_set_size:,-1,:]\n",
        "    \n",
        "    return [x_train, y_train, x_test, y_test]"
      ],
      "metadata": {
        "id": "pVHBLKSaPj5z"
      },
      "execution_count": 13,
      "outputs": []
    },
    {
      "cell_type": "code",
      "source": [
        "lookback = 20 # choose sequence length\n",
        "x_train, y_train, x_test, y_test = split_data(price, lookback)\n",
        "print('x_train.shape = ',x_train.shape)\n",
        "print('y_train.shape = ',y_train.shape)\n",
        "print('x_test.shape = ',x_test.shape)\n",
        "print('y_test.shape = ',y_test.shape)"
      ],
      "metadata": {
        "colab": {
          "base_uri": "https://localhost:8080/"
        },
        "id": "f5t_hFvdRClL",
        "outputId": "dcf04374-d8a1-4ac1-a536-5473293804d6"
      },
      "execution_count": 14,
      "outputs": [
        {
          "output_type": "stream",
          "name": "stdout",
          "text": [
            "x_train.shape =  (2399, 19, 1)\n",
            "y_train.shape =  (2399, 1)\n",
            "x_test.shape =  (600, 19, 1)\n",
            "y_test.shape =  (600, 1)\n"
          ]
        }
      ]
    },
    {
      "cell_type": "code",
      "source": [
        "import torch\n",
        "import torch.nn as nn\n",
        "\n",
        "x_train = torch.from_numpy(x_train).type(torch.Tensor)\n",
        "x_test = torch.from_numpy(x_test).type(torch.Tensor)\n",
        "y_train_lstm = torch.from_numpy(y_train).type(torch.Tensor)\n",
        "y_test_lstm = torch.from_numpy(y_test).type(torch.Tensor)\n",
        "y_train_gru = torch.from_numpy(y_train).type(torch.Tensor)\n",
        "y_test_gru = torch.from_numpy(y_test).type(torch.Tensor)"
      ],
      "metadata": {
        "id": "OUGal9hESHoM"
      },
      "execution_count": 18,
      "outputs": []
    },
    {
      "cell_type": "code",
      "source": [
        "input_dim = 1\n",
        "hidden_dim = 32\n",
        "num_layers = 2\n",
        "output_dim = 1\n",
        "num_epochs = 100"
      ],
      "metadata": {
        "id": "qTZ-4V-KTDu1"
      },
      "execution_count": 23,
      "outputs": []
    },
    {
      "cell_type": "code",
      "source": [
        "class LSTM(nn.Module):\n",
        "    def __init__(self, input_dim, hidden_dim, num_layers, output_dim):\n",
        "        super(LSTM, self).__init__()\n",
        "        self.hidden_dim = hidden_dim\n",
        "        self.num_layers = num_layers\n",
        "        \n",
        "        self.lstm = nn.LSTM(input_dim, hidden_dim, num_layers, batch_first=True)\n",
        "        self.fc = nn.Linear(hidden_dim, output_dim)\n",
        "\n",
        "    def forward(self, x):\n",
        "        h0 = torch.zeros(self.num_layers, x.size(0), self.hidden_dim).requires_grad_()\n",
        "        c0 = torch.zeros(self.num_layers, x.size(0), self.hidden_dim).requires_grad_()\n",
        "        out, (hn, cn) = self.lstm(x, (h0.detach(), c0.detach()))\n",
        "        out = self.fc(out[:, -1, :]) \n",
        "        return out"
      ],
      "metadata": {
        "id": "LU4I4DmnUuu4"
      },
      "execution_count": 24,
      "outputs": []
    },
    {
      "cell_type": "code",
      "source": [
        "model = LSTM(input_dim=input_dim, hidden_dim=hidden_dim, output_dim=output_dim, num_layers=num_layers)\n",
        "criterion = torch.nn.MSELoss(reduction='mean')\n",
        "optimiser = torch.optim.Adam(model.parameters(), lr=0.01)"
      ],
      "metadata": {
        "id": "o00IaPASUzOu"
      },
      "execution_count": 25,
      "outputs": []
    },
    {
      "cell_type": "code",
      "source": [
        "import time\n",
        "\n",
        "hist = np.zeros(num_epochs)\n",
        "start_time = time.time()\n",
        "lstm = []\n",
        "\n",
        "for t in range(num_epochs):\n",
        "    y_train_pred = model(x_train)\n",
        "\n",
        "    loss = criterion(y_train_pred, y_train_lstm)\n",
        "    print(\"Epoch \", t, \"MSE: \", loss.item())\n",
        "    hist[t] = loss.item()\n",
        "\n",
        "    optimiser.zero_grad()\n",
        "    loss.backward()\n",
        "    optimiser.step()\n",
        "    \n",
        "training_time = time.time()-start_time\n",
        "print(\"Training time: {}\".format(training_time))"
      ],
      "metadata": {
        "colab": {
          "base_uri": "https://localhost:8080/"
        },
        "id": "ExMqr65HYV0r",
        "outputId": "23a12180-3b7e-4160-a507-42e2d652b09c"
      },
      "execution_count": 26,
      "outputs": [
        {
          "output_type": "stream",
          "name": "stdout",
          "text": [
            "Epoch  0 MSE:  0.9129181504249573\n",
            "Epoch  1 MSE:  0.6559311747550964\n",
            "Epoch  2 MSE:  0.4051946699619293\n",
            "Epoch  3 MSE:  0.12398150563240051\n",
            "Epoch  4 MSE:  0.06607614457607269\n",
            "Epoch  5 MSE:  0.13627786934375763\n",
            "Epoch  6 MSE:  0.08648700267076492\n",
            "Epoch  7 MSE:  0.0439014658331871\n",
            "Epoch  8 MSE:  0.0383208692073822\n",
            "Epoch  9 MSE:  0.05138073116540909\n",
            "Epoch  10 MSE:  0.06318943947553635\n",
            "Epoch  11 MSE:  0.06620898097753525\n",
            "Epoch  12 MSE:  0.06154971197247505\n",
            "Epoch  13 MSE:  0.0531436987221241\n",
            "Epoch  14 MSE:  0.04488958790898323\n",
            "Epoch  15 MSE:  0.03952600434422493\n",
            "Epoch  16 MSE:  0.03817886859178543\n",
            "Epoch  17 MSE:  0.040265042334795\n",
            "Epoch  18 MSE:  0.043880678713321686\n",
            "Epoch  19 MSE:  0.04677526280283928\n",
            "Epoch  20 MSE:  0.04749532416462898\n",
            "Epoch  21 MSE:  0.04595829173922539\n",
            "Epoch  22 MSE:  0.043162744492292404\n",
            "Epoch  23 MSE:  0.04042293503880501\n",
            "Epoch  24 MSE:  0.038692738860845566\n",
            "Epoch  25 MSE:  0.038274530321359634\n",
            "Epoch  26 MSE:  0.03889553248882294\n",
            "Epoch  27 MSE:  0.0399785153567791\n",
            "Epoch  28 MSE:  0.040930893272161484\n",
            "Epoch  29 MSE:  0.041346851736307144\n",
            "Epoch  30 MSE:  0.041092608124017715\n",
            "Epoch  31 MSE:  0.04029036685824394\n",
            "Epoch  32 MSE:  0.03923293575644493\n",
            "Epoch  33 MSE:  0.038262441754341125\n",
            "Epoch  34 MSE:  0.037646181881427765\n",
            "Epoch  35 MSE:  0.0374845415353775\n",
            "Epoch  36 MSE:  0.03768365457653999\n",
            "Epoch  37 MSE:  0.03800816088914871\n",
            "Epoch  38 MSE:  0.03819519281387329\n",
            "Epoch  39 MSE:  0.0380757637321949\n",
            "Epoch  40 MSE:  0.037641704082489014\n",
            "Epoch  41 MSE:  0.037027355283498764\n",
            "Epoch  42 MSE:  0.036425042897462845\n",
            "Epoch  43 MSE:  0.035986099392175674\n",
            "Epoch  44 MSE:  0.03575744107365608\n",
            "Epoch  45 MSE:  0.035675834864377975\n",
            "Epoch  46 MSE:  0.03561077639460564\n",
            "Epoch  47 MSE:  0.03542865812778473\n",
            "Epoch  48 MSE:  0.035048458725214005\n",
            "Epoch  49 MSE:  0.034468017518520355\n",
            "Epoch  50 MSE:  0.03375277295708656\n",
            "Epoch  51 MSE:  0.032992344349622726\n",
            "Epoch  52 MSE:  0.03224135562777519\n",
            "Epoch  53 MSE:  0.031466588377952576\n",
            "Epoch  54 MSE:  0.030521566048264503\n",
            "Epoch  55 MSE:  0.029171913862228394\n",
            "Epoch  56 MSE:  0.027214588597416878\n",
            "Epoch  57 MSE:  0.02467917837202549\n",
            "Epoch  58 MSE:  0.021722322329878807\n",
            "Epoch  59 MSE:  0.017727671191096306\n",
            "Epoch  60 MSE:  0.011218559928238392\n",
            "Epoch  61 MSE:  0.004291887395083904\n",
            "Epoch  62 MSE:  0.0074305287562310696\n",
            "Epoch  63 MSE:  0.031874485313892365\n",
            "Epoch  64 MSE:  0.007573442999273539\n",
            "Epoch  65 MSE:  0.028975555673241615\n",
            "Epoch  66 MSE:  0.001719148363918066\n",
            "Epoch  67 MSE:  0.010081332176923752\n",
            "Epoch  68 MSE:  0.010806607082486153\n",
            "Epoch  69 MSE:  0.006003269460052252\n",
            "Epoch  70 MSE:  0.00813585240393877\n",
            "Epoch  71 MSE:  0.012243518605828285\n",
            "Epoch  72 MSE:  0.010492352768778801\n",
            "Epoch  73 MSE:  0.006695980671793222\n",
            "Epoch  74 MSE:  0.006895752158015966\n",
            "Epoch  75 MSE:  0.008629268035292625\n",
            "Epoch  76 MSE:  0.006578788161277771\n",
            "Epoch  77 MSE:  0.003171528922393918\n",
            "Epoch  78 MSE:  0.0037256923969835043\n",
            "Epoch  79 MSE:  0.00461180042475462\n",
            "Epoch  80 MSE:  0.001910924562253058\n",
            "Epoch  81 MSE:  0.0017624306492507458\n",
            "Epoch  82 MSE:  0.0037999567575752735\n",
            "Epoch  83 MSE:  0.0025280972477048635\n",
            "Epoch  84 MSE:  0.0022168434225022793\n",
            "Epoch  85 MSE:  0.003828302025794983\n",
            "Epoch  86 MSE:  0.002555360784754157\n",
            "Epoch  87 MSE:  0.0018264903919771314\n",
            "Epoch  88 MSE:  0.0025491863489151\n",
            "Epoch  89 MSE:  0.0016688499599695206\n",
            "Epoch  90 MSE:  0.000985330087132752\n",
            "Epoch  91 MSE:  0.0016439834143966436\n",
            "Epoch  92 MSE:  0.0015583881177008152\n",
            "Epoch  93 MSE:  0.0010327297495678067\n",
            "Epoch  94 MSE:  0.001376952393911779\n",
            "Epoch  95 MSE:  0.0016835411079227924\n",
            "Epoch  96 MSE:  0.0013108407147228718\n",
            "Epoch  97 MSE:  0.001176088466309011\n",
            "Epoch  98 MSE:  0.0014230026863515377\n",
            "Epoch  99 MSE:  0.0012485107872635126\n",
            "Training time: 30.170227766036987\n"
          ]
        }
      ]
    },
    {
      "cell_type": "code",
      "source": [
        "predict = pd.DataFrame(scaler.inverse_transform(y_train_pred.detach().numpy()))\n",
        "original = pd.DataFrame(scaler.inverse_transform(y_train_lstm.detach().numpy()))"
      ],
      "metadata": {
        "id": "NbZ5HN3TYYL_"
      },
      "execution_count": 27,
      "outputs": []
    },
    {
      "cell_type": "code",
      "source": [
        "import seaborn as sns\n",
        "sns.set_style(\"darkgrid\")    \n",
        "\n",
        "fig = plt.figure()\n",
        "fig.subplots_adjust(hspace=0.2, wspace=0.2)\n",
        "\n",
        "plt.subplot(1, 2, 1)\n",
        "ax = sns.lineplot(x = original.index, y = original[0], label=\"Data\", color='royalblue')\n",
        "ax = sns.lineplot(x = predict.index, y = predict[0], label=\"Training Prediction (LSTM)\", color='tomato')\n",
        "ax.set_title('Stock price', size = 14, fontweight='bold')\n",
        "ax.set_xlabel(\"Days\", size = 14)\n",
        "ax.set_ylabel(\"Cost (USD)\", size = 14)\n",
        "ax.set_xticklabels('', size=10)\n",
        "\n",
        "\n",
        "plt.subplot(1, 2, 2)\n",
        "ax = sns.lineplot(data=hist, color='royalblue')\n",
        "ax.set_xlabel(\"Epoch\", size = 14)\n",
        "ax.set_ylabel(\"Loss\", size = 14)\n",
        "ax.set_title(\"Training Loss\", size = 14, fontweight='bold')\n",
        "fig.set_figheight(6)\n",
        "fig.set_figwidth(16)"
      ],
      "metadata": {
        "colab": {
          "base_uri": "https://localhost:8080/",
          "height": 409
        },
        "id": "161SaJyXY162",
        "outputId": "3ed8e329-729b-428a-eccd-dcb542c6f781"
      },
      "execution_count": 28,
      "outputs": [
        {
          "output_type": "display_data",
          "data": {
            "text/plain": [
              "<Figure size 1152x432 with 2 Axes>"
            ],
            "image/png": "[encoded data removed]"
          },
          "metadata": {}
        }
      ]
    },
    {
      "cell_type": "code",
      "source": [
        ""
      ],
      "metadata": {
        "id": "RGGJwA-rY5XW"
      },
      "execution_count": null,
      "outputs": []
    }
  ]
}