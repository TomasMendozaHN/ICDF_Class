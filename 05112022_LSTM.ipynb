{
  "nbformat": 4,
  "nbformat_minor": 0,
  "metadata": {
    "colab": {
      "name": "05112022_LSTM.ipynb",
      "provenance": [],
      "authorship_tag": "ABX9TyPGtao4s2nvwS+tv3V7RmgB",
      "include_colab_link": true
    },
    "kernelspec": {
      "name": "python3",
      "display_name": "Python 3"
    },
    "language_info": {
      "name": "python"
    }
  },
  "cells": [
    {
      "cell_type": "markdown",
      "metadata": {
        "id": "view-in-github",
        "colab_type": "text"
      },
      "source": [
        "<a href=\"https://colab.research.google.com/github/TomasMendozaHN/ICDF_Class/blob/main/05112022_LSTM.ipynb\" target=\"_parent\"><img src=\"https://colab.research.google.com/assets/colab-badge.svg\" alt=\"Open In Colab\"/></a>"
      ]
    },
    {
      "cell_type": "code",
      "execution_count": 2,
      "metadata": {
        "colab": {
          "resources": {
            "http://localhost:8080/nbextensions/google.colab/files.js": {
              "data": "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",
              "ok": true,
              "headers": [
                [
                  "content-type",
                  "application/javascript"
                ]
              ],
              "status": 200,
              "status_text": ""
            }
          },
          "base_uri": "https://localhost:8080/",
          "height": 74
        },
        "id": "njhOipjwIR-h",
        "outputId": "75485217-8f2e-41c1-a2b7-c779f7897bf8"
      },
      "outputs": [
        {
          "output_type": "display_data",
          "data": {
            "text/plain": [
              "<IPython.core.display.HTML object>"
            ],
            "text/html": [
              "\n",
              "     <input type=\"file\" id=\"files-c1f74309-fdad-4d72-b3c5-64eab859b4bd\" name=\"files[]\" multiple disabled\n",
              "        style=\"border:none\" />\n",
              "     <output id=\"result-c1f74309-fdad-4d72-b3c5-64eab859b4bd\">\n",
              "      Upload widget is only available when the cell has been executed in the\n",
              "      current browser session. Please rerun this cell to enable.\n",
              "      </output>\n",
              "      <script src=\"/nbextensions/google.colab/files.js\"></script> "
            ]
          },
          "metadata": {}
        },
        {
          "output_type": "stream",
          "name": "stdout",
          "text": [
            "Saving kaggle.json to kaggle.json\n"
          ]
        }
      ],
      "source": [
        "from google.colab import files\n",
        "uploaded = files.upload()"
      ]
    },
    {
      "cell_type": "code",
      "source": [
        "!mkdir ~/.kaggle #mkdir = make directory\n",
        "!cp kaggle.json ~/.kaggle/  # cp = copy\n",
        "!chmod 600 ~/.kaggle/kaggle.json"
      ],
      "metadata": {
        "id": "1W9cyYH4KntG"
      },
      "execution_count": 3,
      "outputs": []
    },
    {
      "cell_type": "code",
      "source": [
        "!kaggle datasets download -d szrlee/stock-time-series-20050101-to-20171231"
      ],
      "metadata": {
        "colab": {
          "base_uri": "https://localhost:8080/"
        },
        "id": "lPirSFdfKytj",
        "outputId": "52fc7221-4f67-4303-fe23-f4a98bc7a19d"
      },
      "execution_count": 4,
      "outputs": [
        {
          "output_type": "stream",
          "name": "stdout",
          "text": [
            "Downloading stock-time-series-20050101-to-20171231.zip to /content\n",
            "\r  0% 0.00/3.03M [00:00<?, ?B/s]\n",
            "\r100% 3.03M/3.03M [00:00<00:00, 196MB/s]\n"
          ]
        }
      ]
    },
    {
      "cell_type": "code",
      "source": [
        "!unzip stock-time-series-20050101-to-20171231.zip"
      ],
      "metadata": {
        "colab": {
          "base_uri": "https://localhost:8080/"
        },
        "id": "It9nZb4oLIVD",
        "outputId": "e35d02cd-333d-4045-c960-cfeacd9e5b7a"
      },
      "execution_count": 5,
      "outputs": [
        {
          "output_type": "stream",
          "name": "stdout",
          "text": [
            "Archive:  stock-time-series-20050101-to-20171231.zip\n",
            "  inflating: AABA_2006-01-01_to_2018-01-01.csv  \n",
            "  inflating: AAPL_2006-01-01_to_2018-01-01.csv  \n",
            "  inflating: AMZN_2006-01-01_to_2018-01-01.csv  \n",
            "  inflating: AXP_2006-01-01_to_2018-01-01.csv  \n",
            "  inflating: BA_2006-01-01_to_2018-01-01.csv  \n",
            "  inflating: CAT_2006-01-01_to_2018-01-01.csv  \n",
            "  inflating: CSCO_2006-01-01_to_2018-01-01.csv  \n",
            "  inflating: CVX_2006-01-01_to_2018-01-01.csv  \n",
            "  inflating: DIS_2006-01-01_to_2018-01-01.csv  \n",
            "  inflating: GE_2006-01-01_to_2018-01-01.csv  \n",
            "  inflating: GOOGL_2006-01-01_to_2018-01-01.csv  \n",
            "  inflating: GS_2006-01-01_to_2018-01-01.csv  \n",
            "  inflating: HD_2006-01-01_to_2018-01-01.csv  \n",
            "  inflating: IBM_2006-01-01_to_2018-01-01.csv  \n",
            "  inflating: INTC_2006-01-01_to_2018-01-01.csv  \n",
            "  inflating: JNJ_2006-01-01_to_2018-01-01.csv  \n",
            "  inflating: JPM_2006-01-01_to_2018-01-01.csv  \n",
            "  inflating: KO_2006-01-01_to_2018-01-01.csv  \n",
            "  inflating: MCD_2006-01-01_to_2018-01-01.csv  \n",
            "  inflating: MMM_2006-01-01_to_2018-01-01.csv  \n",
            "  inflating: MRK_2006-01-01_to_2018-01-01.csv  \n",
            "  inflating: MSFT_2006-01-01_to_2018-01-01.csv  \n",
            "  inflating: NKE_2006-01-01_to_2018-01-01.csv  \n",
            "  inflating: PFE_2006-01-01_to_2018-01-01.csv  \n",
            "  inflating: PG_2006-01-01_to_2018-01-01.csv  \n",
            "  inflating: TRV_2006-01-01_to_2018-01-01.csv  \n",
            "  inflating: UNH_2006-01-01_to_2018-01-01.csv  \n",
            "  inflating: UTX_2006-01-01_to_2018-01-01.csv  \n",
            "  inflating: VZ_2006-01-01_to_2018-01-01.csv  \n",
            "  inflating: WMT_2006-01-01_to_2018-01-01.csv  \n",
            "  inflating: XOM_2006-01-01_to_2018-01-01.csv  \n",
            "  inflating: all_stocks_2006-01-01_to_2018-01-01.csv  \n",
            "  inflating: all_stocks_2017-01-01_to_2018-01-01.csv  \n"
          ]
        }
      ]
    },
    {
      "cell_type": "code",
      "source": [
        "import numpy as np\n",
        "import pandas as pd"
      ],
      "metadata": {
        "id": "fvBpJZymMs8c"
      },
      "execution_count": 6,
      "outputs": []
    },
    {
      "cell_type": "code",
      "source": [
        "import os\n",
        "for filename in os.listdir():\n",
        "  if filename.endswith('.csv'):\n",
        "    print(filename)"
      ],
      "metadata": {
        "colab": {
          "base_uri": "https://localhost:8080/"
        },
        "id": "mpNxAGBfMyGK",
        "outputId": "757692f1-aed7-4fd0-c1b0-fb14a6ec8ef9"
      },
      "execution_count": 7,
      "outputs": [
        {
          "output_type": "stream",
          "name": "stdout",
          "text": [
            "AABA_2006-01-01_to_2018-01-01.csv\n",
            "UNH_2006-01-01_to_2018-01-01.csv\n",
            "MMM_2006-01-01_to_2018-01-01.csv\n",
            "IBM_2006-01-01_to_2018-01-01.csv\n",
            "JNJ_2006-01-01_to_2018-01-01.csv\n",
            "all_stocks_2017-01-01_to_2018-01-01.csv\n",
            "PG_2006-01-01_to_2018-01-01.csv\n",
            "WMT_2006-01-01_to_2018-01-01.csv\n",
            "NKE_2006-01-01_to_2018-01-01.csv\n",
            "GE_2006-01-01_to_2018-01-01.csv\n",
            "GS_2006-01-01_to_2018-01-01.csv\n",
            "VZ_2006-01-01_to_2018-01-01.csv\n",
            "UTX_2006-01-01_to_2018-01-01.csv\n",
            "HD_2006-01-01_to_2018-01-01.csv\n",
            "DIS_2006-01-01_to_2018-01-01.csv\n",
            "CVX_2006-01-01_to_2018-01-01.csv\n",
            "PFE_2006-01-01_to_2018-01-01.csv\n",
            "AAPL_2006-01-01_to_2018-01-01.csv\n",
            "XOM_2006-01-01_to_2018-01-01.csv\n",
            "MSFT_2006-01-01_to_2018-01-01.csv\n",
            "MCD_2006-01-01_to_2018-01-01.csv\n",
            "INTC_2006-01-01_to_2018-01-01.csv\n",
            "TRV_2006-01-01_to_2018-01-01.csv\n",
            "AMZN_2006-01-01_to_2018-01-01.csv\n",
            "JPM_2006-01-01_to_2018-01-01.csv\n",
            "CSCO_2006-01-01_to_2018-01-01.csv\n",
            "CAT_2006-01-01_to_2018-01-01.csv\n",
            "KO_2006-01-01_to_2018-01-01.csv\n",
            "all_stocks_2006-01-01_to_2018-01-01.csv\n",
            "BA_2006-01-01_to_2018-01-01.csv\n",
            "GOOGL_2006-01-01_to_2018-01-01.csv\n",
            "MRK_2006-01-01_to_2018-01-01.csv\n",
            "AXP_2006-01-01_to_2018-01-01.csv\n"
          ]
        }
      ]
    },
    {
      "cell_type": "code",
      "source": [
        "filepath = 'AMZN_2006-01-01_to_2018-01-01.csv'\n",
        "data = pd.read_csv(filepath)\n",
        "data = data.sort_values('Date')\n",
        "data.head()"
      ],
      "metadata": {
        "colab": {
          "base_uri": "https://localhost:8080/",
          "height": 206
        },
        "id": "CJX59xcjONlq",
        "outputId": "c3f8197b-085a-470c-b7be-7c1c55df6a27"
      },
      "execution_count": 8,
      "outputs": [
        {
          "output_type": "execute_result",
          "data": {
            "text/plain": [
              "         Date   Open   High    Low  Close   Volume  Name\n",
              "0  2006-01-03  47.47  47.85  46.25  47.58  7582127  AMZN\n",
              "1  2006-01-04  47.48  47.73  46.69  47.25  7440914  AMZN\n",
              "2  2006-01-05  47.16  48.20  47.11  47.65  5417258  AMZN\n",
              "3  2006-01-06  47.97  48.58  47.32  47.87  6154285  AMZN\n",
              "4  2006-01-09  46.55  47.10  46.40  47.08  8945056  AMZN"
            ],
            "text/html": [
              "\n",
              "  <div id=\"df-fedd24a0-3af7-4c4c-8fc6-7b3ba7b7182b\">\n",
              "    <div class=\"colab-df-container\">\n",
              "      <div>\n",
              "<style scoped>\n",
              "    .dataframe tbody tr th:only-of-type {\n",
              "        vertical-align: middle;\n",
              "    }\n",
              "\n",
              "    .dataframe tbody tr th {\n",
              "        vertical-align: top;\n",
              "    }\n",
              "\n",
              "    .dataframe thead th {\n",
              "        text-align: right;\n",
              "    }\n",
              "</style>\n",
              "<table border=\"1\" class=\"dataframe\">\n",
              "  <thead>\n",
              "    <tr style=\"text-align: right;\">\n",
              "      <th></th>\n",
              "      <th>Date</th>\n",
              "      <th>Open</th>\n",
              "      <th>High</th>\n",
              "      <th>Low</th>\n",
              "      <th>Close</th>\n",
              "      <th>Volume</th>\n",
              "      <th>Name</th>\n",
              "    </tr>\n",
              "  </thead>\n",
              "  <tbody>\n",
              "    <tr>\n",
              "      <th>0</th>\n",
              "      <td>2006-01-03</td>\n",
              "      <td>47.47</td>\n",
              "      <td>47.85</td>\n",
              "      <td>46.25</td>\n",
              "      <td>47.58</td>\n",
              "      <td>7582127</td>\n",
              "      <td>AMZN</td>\n",
              "    </tr>\n",
              "    <tr>\n",
              "      <th>1</th>\n",
              "      <td>2006-01-04</td>\n",
              "      <td>47.48</td>\n",
              "      <td>47.73</td>\n",
              "      <td>46.69</td>\n",
              "      <td>47.25</td>\n",
              "      <td>7440914</td>\n",
              "      <td>AMZN</td>\n",
              "    </tr>\n",
              "    <tr>\n",
              "      <th>2</th>\n",
              "      <td>2006-01-05</td>\n",
              "      <td>47.16</td>\n",
              "      <td>48.20</td>\n",
              "      <td>47.11</td>\n",
              "      <td>47.65</td>\n",
              "      <td>5417258</td>\n",
              "      <td>AMZN</td>\n",
              "    </tr>\n",
              "    <tr>\n",
              "      <th>3</th>\n",
              "      <td>2006-01-06</td>\n",
              "      <td>47.97</td>\n",
              "      <td>48.58</td>\n",
              "      <td>47.32</td>\n",
              "      <td>47.87</td>\n",
              "      <td>6154285</td>\n",
              "      <td>AMZN</td>\n",
              "    </tr>\n",
              "    <tr>\n",
              "      <th>4</th>\n",
              "      <td>2006-01-09</td>\n",
              "      <td>46.55</td>\n",
              "      <td>47.10</td>\n",
              "      <td>46.40</td>\n",
              "      <td>47.08</td>\n",
              "      <td>8945056</td>\n",
              "      <td>AMZN</td>\n",
              "    </tr>\n",
              "  </tbody>\n",
              "</table>\n",
              "</div>\n",
              "      <button class=\"colab-df-convert\" onclick=\"convertToInteractive('df-fedd24a0-3af7-4c4c-8fc6-7b3ba7b7182b')\"\n",
              "              title=\"Convert this dataframe to an interactive table.\"\n",
              "              style=\"display:none;\">\n",
              "        \n",
              "  <svg xmlns=\"http://www.w3.org/2000/svg\" height=\"24px\"viewBox=\"0 0 24 24\"\n",
              "       width=\"24px\">\n",
              "    <path d=\"M0 0h24v24H0V0z\" fill=\"none\"/>\n",
              "    <path d=\"M18.56 5.44l.94 2.06.94-2.06 2.06-.94-2.06-.94-.94-2.06-.94 2.06-2.06.94zm-11 1L8.5 8.5l.94-2.06 2.06-.94-2.06-.94L8.5 2.5l-.94 2.06-2.06.94zm10 10l.94 2.06.94-2.06 2.06-.94-2.06-.94-.94-2.06-.94 2.06-2.06.94z\"/><path d=\"M17.41 7.96l-1.37-1.37c-.4-.4-.92-.59-1.43-.59-.52 0-1.04.2-1.43.59L10.3 9.45l-7.72 7.72c-.78.78-.78 2.05 0 2.83L4 21.41c.39.39.9.59 1.41.59.51 0 1.02-.2 1.41-.59l7.78-7.78 2.81-2.81c.8-.78.8-2.07 0-2.86zM5.41 20L4 18.59l7.72-7.72 1.47 1.35L5.41 20z\"/>\n",
              "  </svg>\n",
              "      </button>\n",
              "      \n",
              "  <style>\n",
              "    .colab-df-container {\n",
              "      display:flex;\n",
              "      flex-wrap:wrap;\n",
              "      gap: 12px;\n",
              "    }\n",
              "\n",
              "    .colab-df-convert {\n",
              "      background-color: #E8F0FE;\n",
              "      border: none;\n",
              "      border-radius: 50%;\n",
              "      cursor: pointer;\n",
              "      display: none;\n",
              "      fill: #1967D2;\n",
              "      height: 32px;\n",
              "      padding: 0 0 0 0;\n",
              "      width: 32px;\n",
              "    }\n",
              "\n",
              "    .colab-df-convert:hover {\n",
              "      background-color: #E2EBFA;\n",
              "      box-shadow: 0px 1px 2px rgba(60, 64, 67, 0.3), 0px 1px 3px 1px rgba(60, 64, 67, 0.15);\n",
              "      fill: #174EA6;\n",
              "    }\n",
              "\n",
              "    [theme=dark] .colab-df-convert {\n",
              "      background-color: #3B4455;\n",
              "      fill: #D2E3FC;\n",
              "    }\n",
              "\n",
              "    [theme=dark] .colab-df-convert:hover {\n",
              "      background-color: #434B5C;\n",
              "      box-shadow: 0px 1px 3px 1px rgba(0, 0, 0, 0.15);\n",
              "      filter: drop-shadow(0px 1px 2px rgba(0, 0, 0, 0.3));\n",
              "      fill: #FFFFFF;\n",
              "    }\n",
              "  </style>\n",
              "\n",
              "      <script>\n",
              "        const buttonEl =\n",
              "          document.querySelector('#df-fedd24a0-3af7-4c4c-8fc6-7b3ba7b7182b button.colab-df-convert');\n",
              "        buttonEl.style.display =\n",
              "          google.colab.kernel.accessAllowed ? 'block' : 'none';\n",
              "\n",
              "        async function convertToInteractive(key) {\n",
              "          const element = document.querySelector('#df-fedd24a0-3af7-4c4c-8fc6-7b3ba7b7182b');\n",
              "          const dataTable =\n",
              "            await google.colab.kernel.invokeFunction('convertToInteractive',\n",
              "                                                     [key], {});\n",
              "          if (!dataTable) return;\n",
              "\n",
              "          const docLinkHtml = 'Like what you see? Visit the ' +\n",
              "            '<a target=\"_blank\" href=https://colab.research.google.com/notebooks/data_table.ipynb>data table notebook</a>'\n",
              "            + ' to learn more about interactive tables.';\n",
              "          element.innerHTML = '';\n",
              "          dataTable['output_type'] = 'display_data';\n",
              "          await google.colab.output.renderOutput(dataTable, element);\n",
              "          const docLink = document.createElement('div');\n",
              "          docLink.innerHTML = docLinkHtml;\n",
              "          element.appendChild(docLink);\n",
              "        }\n",
              "      </script>\n",
              "    </div>\n",
              "  </div>\n",
              "  "
            ]
          },
          "metadata": {},
          "execution_count": 8
        }
      ]
    },
    {
      "cell_type": "markdown",
      "source": [
        "# Visualize Amazon's Stock Price"
      ],
      "metadata": {
        "id": "LgrJLOiAO9-W"
      }
    },
    {
      "cell_type": "code",
      "source": [
        "import matplotlib.pyplot as plt\n",
        "import seaborn as sns\n",
        "\n",
        "sns.set_style(\"darkgrid\")\n",
        "plt.figure(figsize = (15,9))\n",
        "plt.plot(data[['Close']])\n",
        "plt.xticks(range(0,data.shape[0],500),data['Date'].loc[::500],rotation=45)\n",
        "plt.title(\"Amazon Stock Price\",fontsize=18, fontweight='bold')\n",
        "plt.xlabel('Date',fontsize=18)\n",
        "plt.ylabel('Close Price (USD)',fontsize=18)\n",
        "plt.show()"
      ],
      "metadata": {
        "colab": {
          "base_uri": "https://localhost:8080/",
          "height": 587
        },
        "id": "-Ek-shOdO4K0",
        "outputId": "a294cb36-dd79-43ff-e2e4-2f56a2b6595d"
      },
      "execution_count": 9,
      "outputs": [
        {
          "output_type": "display_data",
          "data": {
            "text/plain": [
              "<Figure size 1080x648 with 1 Axes>"
            ],
            "image/png": "[encoded data removed]"
          },
          "metadata": {}
        }
      ]
    },
    {
      "cell_type": "code",
      "source": [
        "price = data[['Close']]\n",
        "price.info()"
      ],
      "metadata": {
        "colab": {
          "base_uri": "https://localhost:8080/"
        },
        "id": "DGYakCyRO7hF",
        "outputId": "2889b56b-0096-44f4-e2db-0e3c007ac6f1"
      },
      "execution_count": 10,
      "outputs": [
        {
          "output_type": "stream",
          "name": "stdout",
          "text": [
            "<class 'pandas.core.frame.DataFrame'>\n",
            "Int64Index: 3019 entries, 0 to 3018\n",
            "Data columns (total 1 columns):\n",
            " #   Column  Non-Null Count  Dtype  \n",
            "---  ------  --------------  -----  \n",
            " 0   Close   3019 non-null   float64\n",
            "dtypes: float64(1)\n",
            "memory usage: 47.2 KB\n"
          ]
        }
      ]
    },
    {
      "cell_type": "code",
      "source": [
        "# Prices before normalizing\n",
        "price['Close']"
      ],
      "metadata": {
        "colab": {
          "base_uri": "https://localhost:8080/"
        },
        "id": "hLKK7_LQP5o-",
        "outputId": "d7088f11-9c99-4866-9af1-ae8fe77238b0"
      },
      "execution_count": 11,
      "outputs": [
        {
          "output_type": "execute_result",
          "data": {
            "text/plain": [
              "0         47.58\n",
              "1         47.25\n",
              "2         47.65\n",
              "3         47.87\n",
              "4         47.08\n",
              "         ...   \n",
              "3014    1168.36\n",
              "3015    1176.76\n",
              "3016    1182.26\n",
              "3017    1186.10\n",
              "3018    1169.47\n",
              "Name: Close, Length: 3019, dtype: float64"
            ]
          },
          "metadata": {},
          "execution_count": 11
        }
      ]
    },
    {
      "cell_type": "markdown",
      "source": [
        "# Normalize the stock value prediction"
      ],
      "metadata": {
        "id": "gJA04QqJQFs7"
      }
    },
    {
      "cell_type": "code",
      "source": [
        "from sklearn.preprocessing import MinMaxScaler\n",
        "\n",
        "scaler = MinMaxScaler(feature_range=(-1, 1))\n",
        "price['Close'] = scaler.fit_transform(price['Close'].values.reshape(-1,1))"
      ],
      "metadata": {
        "colab": {
          "base_uri": "https://localhost:8080/"
        },
        "id": "NpEfF6OEPRwD",
        "outputId": "a647e389-2f3b-4455-85b7-0dd7b664129f"
      },
      "execution_count": 12,
      "outputs": [
        {
          "output_type": "stream",
          "name": "stderr",
          "text": [
            "/usr/local/lib/python3.7/dist-packages/ipykernel_launcher.py:4: SettingWithCopyWarning: \n",
            "A value is trying to be set on a copy of a slice from a DataFrame.\n",
            "Try using .loc[row_indexer,col_indexer] = value instead\n",
            "\n",
            "See the caveats in the documentation: https://pandas.pydata.org/pandas-docs/stable/user_guide/indexing.html#returning-a-view-versus-a-copy\n",
            "  after removing the cwd from sys.path.\n"
          ]
        }
      ]
    },
    {
      "cell_type": "code",
      "source": [
        "# Prices AFTER normalizing\n",
        "price['Close']"
      ],
      "metadata": {
        "colab": {
          "base_uri": "https://localhost:8080/"
        },
        "id": "vOqmIdjzPbfG",
        "outputId": "aaefa369-d241-496a-fe27-36eb169f9474"
      },
      "execution_count": 13,
      "outputs": [
        {
          "output_type": "execute_result",
          "data": {
            "text/plain": [
              "0      -0.963223\n",
              "1      -0.963787\n",
              "2      -0.963104\n",
              "3      -0.962727\n",
              "4      -0.964078\n",
              "          ...   \n",
              "3014    0.953033\n",
              "3015    0.967395\n",
              "3016    0.976799\n",
              "3017    0.983364\n",
              "3018    0.954931\n",
              "Name: Close, Length: 3019, dtype: float64"
            ]
          },
          "metadata": {},
          "execution_count": 13
        }
      ]
    },
    {
      "cell_type": "markdown",
      "source": [
        "# Example how to prepare the data:"
      ],
      "metadata": {
        "id": "mNI5t2ikTIOg"
      }
    },
    {
      "cell_type": "code",
      "source": [
        "stock_data_raw = price.to_numpy()  # Convert to numpy array\n",
        "print(stock_data_raw.shape)\n",
        "\n",
        "data_temp = []\n",
        "\n",
        "for index in range(len(stock_data_raw) - 20):  \n",
        "  data_temp.append(stock_data_raw[index: index + 20])  # Slide a window of size 20, and record the data scanned by that window into a list\n",
        "\n",
        "data_temp = np.array(data_temp)  # Convert into an array of shape  N x 20 x 1\n",
        "print(\"your data_temp has a shape = \", data_temp.shape)\n",
        "print(data_temp[0])\n",
        "print(data_temp[1])"
      ],
      "metadata": {
        "colab": {
          "base_uri": "https://localhost:8080/"
        },
        "id": "_10Jl13eTHZI",
        "outputId": "778a8204-230c-468b-c4a4-f9217e76b44d"
      },
      "execution_count": 14,
      "outputs": [
        {
          "output_type": "stream",
          "name": "stdout",
          "text": [
            "(3019, 1)\n",
            "your data_temp has a shape =  (2999, 20, 1)\n",
            "[[-0.96322323]\n",
            " [-0.96378744]\n",
            " [-0.96310354]\n",
            " [-0.9627274 ]\n",
            " [-0.9640781 ]\n",
            " [-0.96652305]\n",
            " [-0.96775407]\n",
            " [-0.96872863]\n",
            " [-0.96866024]\n",
            " [-0.96934414]\n",
            " [-0.96879702]\n",
            " [-0.96857475]\n",
            " [-0.96948092]\n",
            " [-0.96980577]\n",
            " [-0.96930994]\n",
            " [-0.97002804]\n",
            " [-0.96818151]\n",
            " [-0.96725824]\n",
            " [-0.96770278]\n",
            " [-0.96794214]]\n",
            "[[-0.96378744]\n",
            " [-0.96310354]\n",
            " [-0.9627274 ]\n",
            " [-0.9640781 ]\n",
            " [-0.96652305]\n",
            " [-0.96775407]\n",
            " [-0.96872863]\n",
            " [-0.96866024]\n",
            " [-0.96934414]\n",
            " [-0.96879702]\n",
            " [-0.96857475]\n",
            " [-0.96948092]\n",
            " [-0.96980577]\n",
            " [-0.96930994]\n",
            " [-0.97002804]\n",
            " [-0.96818151]\n",
            " [-0.96725824]\n",
            " [-0.96770278]\n",
            " [-0.96794214]\n",
            " [-0.96937833]]\n"
          ]
        }
      ]
    },
    {
      "cell_type": "code",
      "source": [
        "def split_data(stock, lookback):\n",
        "    data_raw = stock.to_numpy() # convert to numpy array\n",
        "    data = []\n",
        "    \n",
        "    # create all possible sequences of length seq_len\n",
        "    for index in range(len(data_raw) - lookback): \n",
        "        data.append(data_raw[index: index + lookback])\n",
        "    \n",
        "    data = np.array(data)\n",
        "\n",
        "    # Now, split the array into training and testing datasets \n",
        "    # Where train = first 80% of the data\n",
        "    # and the test = the last 20% of the data\n",
        "    test_set_size = int(np.round(0.2*data.shape[0]));\n",
        "    train_set_size = data.shape[0] - (test_set_size);\n",
        "    \n",
        "    x_train = data[:train_set_size,:-1,:]  # X_train = the first 19 data points of each window\n",
        "    y_train = data[:train_set_size,-1,:]   # Y_train = the last data point of each window\n",
        "    \n",
        "    x_test = data[train_set_size:,:-1]\n",
        "    y_test = data[train_set_size:,-1,:]\n",
        "\n",
        "    # !!!!!!!!!!!!!! Important !!!!!!!!!!!!!!!!!!!! \n",
        "    # You must not shuffle the train or test datasets\n",
        "    # since this is a time series and each datapoint is correlated\n",
        "    # To the previous and future datapoints\n",
        "    \n",
        "    return [x_train, y_train, x_test, y_test]"
      ],
      "metadata": {
        "id": "pVHBLKSaPj5z"
      },
      "execution_count": 15,
      "outputs": []
    },
    {
      "cell_type": "markdown",
      "source": [
        "# Prepare data"
      ],
      "metadata": {
        "id": "1MAp0aN4QBvT"
      }
    },
    {
      "cell_type": "code",
      "source": [
        "lookback = 20 # choose sequence length (window size)\n",
        "x_train, y_train, x_test, y_test = split_data(price, lookback)\n",
        "print('x_train.shape = ',x_train.shape)\n",
        "print('y_train.shape = ',y_train.shape)\n",
        "print('x_test.shape = ',x_test.shape)\n",
        "print('y_test.shape = ',y_test.shape)"
      ],
      "metadata": {
        "colab": {
          "base_uri": "https://localhost:8080/"
        },
        "id": "f5t_hFvdRClL",
        "outputId": "a65b5584-4dde-4392-a3e6-f9f55c055d6d"
      },
      "execution_count": 16,
      "outputs": [
        {
          "output_type": "stream",
          "name": "stdout",
          "text": [
            "x_train.shape =  (2399, 19, 1)\n",
            "y_train.shape =  (2399, 1)\n",
            "x_test.shape =  (600, 19, 1)\n",
            "y_test.shape =  (600, 1)\n"
          ]
        }
      ]
    },
    {
      "cell_type": "markdown",
      "source": [
        "# Convert data into tensors"
      ],
      "metadata": {
        "id": "YNMnFaUWP8nH"
      }
    },
    {
      "cell_type": "code",
      "source": [
        "# Convert everything into tensors for training\n",
        "import torch\n",
        "import torch.nn as nn\n",
        "\n",
        "x_train = torch.from_numpy(x_train).type(torch.Tensor)\n",
        "x_test = torch.from_numpy(x_test).type(torch.Tensor)\n",
        "y_train_lstm = torch.from_numpy(y_train).type(torch.Tensor)\n",
        "y_test_lstm = torch.from_numpy(y_test).type(torch.Tensor)\n",
        "y_train_gru = torch.from_numpy(y_train).type(torch.Tensor)\n",
        "y_test_gru = torch.from_numpy(y_test).type(torch.Tensor)"
      ],
      "metadata": {
        "id": "OUGal9hESHoM"
      },
      "execution_count": null,
      "outputs": []
    },
    {
      "cell_type": "markdown",
      "source": [
        "# Hyperparameters"
      ],
      "metadata": {
        "id": "u5UEnzQfP2y8"
      }
    },
    {
      "cell_type": "code",
      "source": [
        "input_dim = 1       # Because X_train has shape = N x 19 x 1  --> so input dim = 1 since we are only training on a single value: PRICE\n",
        "hidden_dim = 32     # Size of the h_t \n",
        "num_layers = 2      # This means we will have 2 LSTM cells\n",
        "output_dim = 1      # The size of our prediction. Since we are predicting a single value (pricee) then output_dim = 1\n",
        "num_epochs = 100    # Number of epochs to train for. In LSTM this value is usually high"
      ],
      "metadata": {
        "id": "qTZ-4V-KTDu1"
      },
      "execution_count": 41,
      "outputs": []
    },
    {
      "cell_type": "code",
      "source": [
        "class LSTM(nn.Module):\n",
        "    def __init__(self, input_dim, hidden_dim, num_layers, output_dim):\n",
        "        super(LSTM, self).__init__()\n",
        "        self.hidden_dim = hidden_dim\n",
        "        self.num_layers = num_layers\n",
        "        \n",
        "        self.lstm = nn.LSTM(input_dim, hidden_dim, num_layers, batch_first=True)\n",
        "        self.fc = nn.Linear(hidden_dim, output_dim)\n",
        "\n",
        "    def forward(self, x):\n",
        "        h0 = torch.zeros(self.num_layers, x.size(0), self.hidden_dim).requires_grad_()\n",
        "        c0 = torch.zeros(self.num_layers, x.size(0), self.hidden_dim).requires_grad_()\n",
        "        out, (hn, cn) = self.lstm(x, (h0.detach(), c0.detach()))\n",
        "        out = self.fc(out[:, -1, :]) \n",
        "        return out"
      ],
      "metadata": {
        "id": "LU4I4DmnUuu4"
      },
      "execution_count": 42,
      "outputs": []
    },
    {
      "cell_type": "markdown",
      "source": [
        "# Initialize your model"
      ],
      "metadata": {
        "id": "-Jo9bOIMQK4W"
      }
    },
    {
      "cell_type": "code",
      "source": [
        "model = LSTM(input_dim=input_dim, hidden_dim=hidden_dim, output_dim=output_dim, num_layers=num_layers)\n",
        "optimiser = torch.optim.Adam(model.parameters(), lr=0.01)\n",
        "\n",
        "# MSE Loss since our problem is regression, not classification!\n",
        "criterion = torch.nn.MSELoss(reduction='mean')  "
      ],
      "metadata": {
        "id": "o00IaPASUzOu"
      },
      "execution_count": 43,
      "outputs": []
    },
    {
      "cell_type": "markdown",
      "source": [
        "# Now visualize your model!"
      ],
      "metadata": {
        "id": "4Y5BrnSUYvpj"
      }
    },
    {
      "cell_type": "code",
      "source": [
        "%pip install -U git+https://github.com/szagoruyko/pytorchviz.git@master\n",
        "from torchviz import make_dot, make_dot_from_trace\n",
        "# Make a random set of data, just for visualization purposes\n",
        "x = torch.randn(19,1)\n",
        "make_dot(model(x), params=dict(model.named_parameters()))"
      ],
      "metadata": {
        "id": "DWuYHxsRYv60"
      },
      "execution_count": null,
      "outputs": []
    },
    {
      "cell_type": "code",
      "source": [
        "import time\n",
        "\n",
        "hist = np.zeros(num_epochs)\n",
        "start_time = time.time()\n",
        "lstm = []\n",
        "\n",
        "for t in range(num_epochs):\n",
        "    y_train_pred = model(x_train)\n",
        "\n",
        "    loss = criterion(y_train_pred, y_train_lstm)\n",
        "    print(\"Epoch \", t, \"MSE: \", loss.item())\n",
        "    hist[t] = loss.item()\n",
        "\n",
        "    optimiser.zero_grad()\n",
        "    loss.backward()\n",
        "    optimiser.step()\n",
        "    \n",
        "training_time = time.time()-start_time\n",
        "print(\"Training time: {}\".format(training_time))"
      ],
      "metadata": {
        "colab": {
          "base_uri": "https://localhost:8080/"
        },
        "id": "ExMqr65HYV0r",
        "outputId": "aabdbe1a-f500-4562-b411-f375b904e5fe"
      },
      "execution_count": 44,
      "outputs": [
        {
          "output_type": "stream",
          "name": "stdout",
          "text": [
            "Epoch  0 MSE:  0.5976637005805969\n",
            "Epoch  1 MSE:  0.4247839152812958\n",
            "Epoch  2 MSE:  0.2536982297897339\n",
            "Epoch  3 MSE:  0.07569726556539536\n",
            "Epoch  4 MSE:  0.12472156435251236\n",
            "Epoch  5 MSE:  0.09097462892532349\n",
            "Epoch  6 MSE:  0.03854142874479294\n",
            "Epoch  7 MSE:  0.039143458008766174\n",
            "Epoch  8 MSE:  0.05397126078605652\n",
            "Epoch  9 MSE:  0.06169639155268669\n",
            "Epoch  10 MSE:  0.05966269224882126\n",
            "Epoch  11 MSE:  0.05164254829287529\n",
            "Epoch  12 MSE:  0.042519450187683105\n",
            "Epoch  13 MSE:  0.036327049136161804\n",
            "Epoch  14 MSE:  0.03508027270436287\n",
            "Epoch  15 MSE:  0.03803841769695282\n",
            "Epoch  16 MSE:  0.042134497314691544\n",
            "Epoch  17 MSE:  0.044056396931409836\n",
            "Epoch  18 MSE:  0.04262351244688034\n",
            "Epoch  19 MSE:  0.039104659110307693\n",
            "Epoch  20 MSE:  0.03562760725617409\n",
            "Epoch  21 MSE:  0.0336330346763134\n",
            "Epoch  22 MSE:  0.0333770215511322\n",
            "Epoch  23 MSE:  0.03424261137843132\n",
            "Epoch  24 MSE:  0.035295404493808746\n",
            "Epoch  25 MSE:  0.035741228610277176\n",
            "Epoch  26 MSE:  0.0351848229765892\n",
            "Epoch  27 MSE:  0.033691756427288055\n",
            "Epoch  28 MSE:  0.03169083967804909\n",
            "Epoch  29 MSE:  0.02977239154279232\n",
            "Epoch  30 MSE:  0.028437262400984764\n",
            "Epoch  31 MSE:  0.027837596833705902\n",
            "Epoch  32 MSE:  0.02756865695118904\n",
            "Epoch  33 MSE:  0.02668783813714981\n",
            "Epoch  34 MSE:  0.02423974685370922\n",
            "Epoch  35 MSE:  0.0201494749635458\n",
            "Epoch  36 MSE:  0.015587635338306427\n",
            "Epoch  37 MSE:  0.011664750054478645\n",
            "Epoch  38 MSE:  0.006661553401499987\n",
            "Epoch  39 MSE:  0.0021938609424978495\n",
            "Epoch  40 MSE:  0.005152174271643162\n",
            "Epoch  41 MSE:  0.007938705384731293\n",
            "Epoch  42 MSE:  0.006412163842469454\n",
            "Epoch  43 MSE:  0.004717355594038963\n",
            "Epoch  44 MSE:  0.002246638759970665\n",
            "Epoch  45 MSE:  0.0008534255903214216\n",
            "Epoch  46 MSE:  0.0018843867583200336\n",
            "Epoch  47 MSE:  0.002186600351706147\n",
            "Epoch  48 MSE:  0.002388876862823963\n",
            "Epoch  49 MSE:  0.0030694669112563133\n",
            "Epoch  50 MSE:  0.003203178523108363\n",
            "Epoch  51 MSE:  0.002573935082182288\n",
            "Epoch  52 MSE:  0.0020563900470733643\n",
            "Epoch  53 MSE:  0.0017262460896745324\n",
            "Epoch  54 MSE:  0.0010789494263008237\n",
            "Epoch  55 MSE:  0.0005903358105570078\n",
            "Epoch  56 MSE:  0.0008343778899870813\n",
            "Epoch  57 MSE:  0.001089895493350923\n",
            "Epoch  58 MSE:  0.0012603123905137181\n",
            "Epoch  59 MSE:  0.0015641191275790334\n",
            "Epoch  60 MSE:  0.0013290714705362916\n",
            "Epoch  61 MSE:  0.0009208971750922501\n",
            "Epoch  62 MSE:  0.0007643655990250409\n",
            "Epoch  63 MSE:  0.0005773645825684071\n",
            "Epoch  64 MSE:  0.0005588536732830107\n",
            "Epoch  65 MSE:  0.0007484612870030105\n",
            "Epoch  66 MSE:  0.0008213383262045681\n",
            "Epoch  67 MSE:  0.0008222706383094192\n",
            "Epoch  68 MSE:  0.000861068838275969\n",
            "Epoch  69 MSE:  0.0007804937777109444\n",
            "Epoch  70 MSE:  0.0006192320142872632\n",
            "Epoch  71 MSE:  0.0005521294078789651\n",
            "Epoch  72 MSE:  0.0004948968417011201\n",
            "Epoch  73 MSE:  0.0004416934389155358\n",
            "Epoch  74 MSE:  0.0005064491415396333\n",
            "Epoch  75 MSE:  0.0005511087947525084\n",
            "Epoch  76 MSE:  0.0005475097568705678\n",
            "Epoch  77 MSE:  0.0005624003824777901\n",
            "Epoch  78 MSE:  0.000501800503116101\n",
            "Epoch  79 MSE:  0.00043910142267122865\n",
            "Epoch  80 MSE:  0.0004230400372762233\n",
            "Epoch  81 MSE:  0.0003945646749343723\n",
            "Epoch  82 MSE:  0.00040581513894721866\n",
            "Epoch  83 MSE:  0.00043398840352892876\n",
            "Epoch  84 MSE:  0.0004309273208491504\n",
            "Epoch  85 MSE:  0.00043380141141824424\n",
            "Epoch  86 MSE:  0.0004226290911901742\n",
            "Epoch  87 MSE:  0.00038832463906146586\n",
            "Epoch  88 MSE:  0.0003734376805368811\n",
            "Epoch  89 MSE:  0.0003598725306801498\n",
            "Epoch  90 MSE:  0.00035090057644993067\n",
            "Epoch  91 MSE:  0.00036319970968179405\n",
            "Epoch  92 MSE:  0.00036427704617381096\n",
            "Epoch  93 MSE:  0.0003633263986557722\n",
            "Epoch  94 MSE:  0.00035972282057628036\n",
            "Epoch  95 MSE:  0.00034217521897517145\n",
            "Epoch  96 MSE:  0.0003333834756631404\n",
            "Epoch  97 MSE:  0.00032616581302136183\n",
            "Epoch  98 MSE:  0.000321473489748314\n",
            "Epoch  99 MSE:  0.0003258964279666543\n",
            "Training time: 37.1006646156311\n"
          ]
        }
      ]
    },
    {
      "cell_type": "code",
      "source": [
        "# Convert prediction and test data into arrays\n",
        "y_train_pred = y_train_pred.detach().numpy()\n",
        "y_train_lstm = y_train_lstm.detach().numpy()\n",
        "\n",
        "# Convert into dataframes\n",
        "predict = pd.DataFrame(scaler.inverse_transform(y_train_pred))\n",
        "original = pd.DataFrame(scaler.inverse_transform(y_train_lstm))"
      ],
      "metadata": {
        "id": "NbZ5HN3TYYL_"
      },
      "execution_count": 45,
      "outputs": []
    },
    {
      "cell_type": "markdown",
      "source": [
        "# Plot the training data VS the prediction of the training data"
      ],
      "metadata": {
        "id": "7K-k62UUUGzj"
      }
    },
    {
      "cell_type": "code",
      "source": [
        "import seaborn as sns\n",
        "sns.set_style(\"darkgrid\")    \n",
        "\n",
        "fig = plt.figure()\n",
        "fig.subplots_adjust(hspace=0.2, wspace=0.2)\n",
        "\n",
        "plt.subplot(1, 2, 1)  # plt.subplot(number of rows, number of columns, position)\n",
        "ax = sns.lineplot(x = original.index, y = original[0], label=\"Data\", color='royalblue')\n",
        "ax = sns.lineplot(x = predict.index, y = predict[0], label=\"Training Prediction (LSTM)\", color='tomato')\n",
        "ax.set_title('Stock price', size = 14, fontweight='bold')\n",
        "ax.set_xlabel(\"Days\", size = 14)\n",
        "ax.set_ylabel(\"Cost (USD)\", size = 14)\n",
        "ax.set_xticklabels('', size=10)\n",
        "\n",
        "plt.subplot(1, 2, 2)  # plt.subplot(number of rows, number of columns, position)\n",
        "ax = sns.lineplot(data=hist, color='royalblue')\n",
        "ax.set_xlabel(\"Epoch\", size = 14)\n",
        "ax.set_ylabel(\"Loss\", size = 14)\n",
        "ax.set_title(\"Training Loss\", size = 14, fontweight='bold')\n",
        "fig.set_figheight(6)\n",
        "fig.set_figwidth(16)"
      ],
      "metadata": {
        "colab": {
          "base_uri": "https://localhost:8080/",
          "height": 429
        },
        "id": "161SaJyXY162",
        "outputId": "4c20f2a5-c118-4475-9d40-c30569253083"
      },
      "execution_count": 46,
      "outputs": [
        {
          "output_type": "display_data",
          "data": {
            "text/plain": [
              "<Figure size 1152x432 with 2 Axes>"
            ],
            "image/png": "[encoded data removed]"
          },
          "metadata": {}
        }
      ]
    },
    {
      "cell_type": "markdown",
      "source": [
        "# Now, predict the testing data"
      ],
      "metadata": {
        "id": "7H5heUOHUMtz"
      }
    },
    {
      "cell_type": "code",
      "source": [
        "import math, time\n",
        "from sklearn.metrics import mean_squared_error\n",
        "\n",
        "# make predictions\n",
        "y_test_pred = model(x_test)\n",
        "\n",
        "# invert predictions\n",
        "y_train_pred = scaler.inverse_transform(y_train_pred)\n",
        "y_train = scaler.inverse_transform(y_train_lstm)\n",
        "y_test_pred = scaler.inverse_transform(y_test_pred.detach().numpy())\n",
        "y_test = scaler.inverse_transform(y_test_lstm.detach().numpy())\n",
        "\n",
        "# calculate root mean squared error\n",
        "trainScore = math.sqrt(mean_squared_error(y_train[:,0], y_train_pred[:,0]))\n",
        "print('Train Score: %.2f RMSE' % (trainScore))\n",
        "testScore = math.sqrt(mean_squared_error(y_test[:,0], y_test_pred[:,0]))\n",
        "print('Test Score: %.2f RMSE' % (testScore))\n",
        "lstm.append(trainScore)\n",
        "lstm.append(testScore)\n",
        "lstm.append(training_time)"
      ],
      "metadata": {
        "colab": {
          "base_uri": "https://localhost:8080/"
        },
        "id": "RGGJwA-rY5XW",
        "outputId": "d02c9dac-544b-4672-9df4-4a7242f80369"
      },
      "execution_count": 48,
      "outputs": [
        {
          "output_type": "stream",
          "name": "stdout",
          "text": [
            "Train Score: 10.56 RMSE\n",
            "Test Score: 255.37 RMSE\n"
          ]
        }
      ]
    },
    {
      "cell_type": "code",
      "source": [
        "# shift train predictions for plotting\n",
        "trainPredictPlot = np.empty_like(price)  # np.empty_like == makes an empty numpy array the same shape as price\n",
        "trainPredictPlot[:, :] = np.nan  # fill the empty array with NAN values\n",
        "# substitute NAN values starting at position = window size since we had to use the first\n",
        "# 20 points to train, thus, these first 20 points have no prediction\n",
        "trainPredictPlot[lookback:len(y_train_pred)+lookback, :] = y_train_pred \n",
        "\n",
        "\n",
        "\n",
        "# do the same for the test prediction plot\n",
        "testPredictPlot = np.empty_like(price)\n",
        "testPredictPlot[:, :] = np.nan\n",
        "# For test, we only have to substitute the last 20% of the points,\n",
        "# thats why we start at the len(y_train_pred) \n",
        "testPredictPlot[len(y_train_pred)+lookback-1:len(price)-1, :] = y_test_pred\n",
        "\n",
        "original = scaler.inverse_transform(price['Close'].values.reshape(-1,1))\n",
        "\n",
        "predictions = np.append(trainPredictPlot, testPredictPlot, axis=1)\n",
        "predictions = np.append(predictions, original, axis=1)\n",
        "\n",
        "# convert the result into dataframe. Therefore, the shape of this dataframe\n",
        "# is: N rows x 3 columns, where column 1 = \n",
        "result = pd.DataFrame(predictions)\n",
        "print(result)"
      ],
      "metadata": {
        "id": "eQRWp8dPZIRN",
        "colab": {
          "base_uri": "https://localhost:8080/"
        },
        "outputId": "62647dfe-d9ff-48ea-a853-19b6ecd336cb"
      },
      "execution_count": 56,
      "outputs": [
        {
          "output_type": "stream",
          "name": "stdout",
          "text": [
            "       0           1        2\n",
            "0    NaN         NaN    47.58\n",
            "1    NaN         NaN    47.25\n",
            "2    NaN         NaN    47.65\n",
            "3    NaN         NaN    47.87\n",
            "4    NaN         NaN    47.08\n",
            "...   ..         ...      ...\n",
            "3014 NaN  645.685181  1168.36\n",
            "3015 NaN  645.626709  1176.76\n",
            "3016 NaN  645.553955  1182.26\n",
            "3017 NaN  645.568542  1186.10\n",
            "3018 NaN         NaN  1169.47\n",
            "\n",
            "[3019 rows x 3 columns]\n"
          ]
        }
      ]
    },
    {
      "cell_type": "code",
      "source": [
        "import seaborn as sns\n",
        "sns.set_style(\"darkgrid\")    \n",
        "\n",
        "fig = plt.figure(figsize=(20,12))\n",
        "fig.subplots_adjust(hspace=0.2, wspace=0.2)\n",
        "\n",
        "plt.subplot(1, 1, 1)  # plt.subplot(number of rows, number of columns, position)\n",
        "ax = sns.lineplot(x = result.index, y = result[0], label=\"Train prediction\", color='royalblue')\n",
        "ax = sns.lineplot(x = result.index, y = result[1], label=\"Test prediction\", color='green')\n",
        "ax = sns.lineplot(x = result.index, y = result[2], label=\"Actual Value\", color='tomato')\n",
        "ax.set_title('Stock price', size = 14, fontweight='bold')\n",
        "ax.set_xlabel(\"Days\", size = 14)\n",
        "ax.set_ylabel(\"Cost (USD)\", size = 14)\n",
        "ax.set_xticklabels('', size=10)\n"
      ],
      "metadata": {
        "colab": {
          "base_uri": "https://localhost:8080/",
          "height": 550
        },
        "id": "MI-iM7vJWp0b",
        "outputId": "5ad121dd-b373-4e4c-bc46-a5740aa9a2cc"
      },
      "execution_count": 60,
      "outputs": [
        {
          "output_type": "execute_result",
          "data": {
            "text/plain": [
              "[]"
            ]
          },
          "metadata": {},
          "execution_count": 60
        },
        {
          "output_type": "display_data",
          "data": {
            "text/plain": [
              "<Figure size 1440x864 with 1 Axes>"
            ],
            "image/png": "[encoded data removed]"
          },
          "metadata": {}
        }
      ]
    },
    {
      "cell_type": "code",
      "source": [
        ""
      ],
      "metadata": {
        "id": "7KmdYcY9XM4R"
      },
      "execution_count": null,
      "outputs": []
    }
  ]
}