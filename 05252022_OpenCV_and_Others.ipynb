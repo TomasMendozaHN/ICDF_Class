{
  "nbformat": 4,
  "nbformat_minor": 0,
  "metadata": {
    "colab": {
      "name": "05252022_OpenCV_and_Others.ipynb",
      "provenance": [],
      "authorship_tag": "ABX9TyMlp2slNoncYzSpAABjPxk3",
      "include_colab_link": true
    },
    "kernelspec": {
      "name": "python3",
      "display_name": "Python 3"
    },
    "language_info": {
      "name": "python"
    }
  },
  "cells": [
    {
      "cell_type": "markdown",
      "metadata": {
        "id": "view-in-github",
        "colab_type": "text"
      },
      "source": [
        "<a href=\"https://colab.research.google.com/github/TomasMendozaHN/ICDF_Class/blob/main/05252022_OpenCV_and_Others.ipynb\" target=\"_parent\"><img src=\"https://colab.research.google.com/assets/colab-badge.svg\" alt=\"Open In Colab\"/></a>"
      ]
    },
    {
      "cell_type": "code",
      "execution_count": 1,
      "metadata": {
        "id": "ASK0Shs6ojV0"
      },
      "outputs": [],
      "source": [
        "import numpy as np\n",
        "import pandas as pd \n",
        "import torch\n",
        "import torch.nn as nn\n",
        "import cv2\n",
        "import os\n",
        "import time\n",
        "from torch.autograd import Variable\n",
        "import matplotlib.pyplot as plt"
      ]
    },
    {
      "cell_type": "markdown",
      "source": [
        "# PRInT"
      ],
      "metadata": {
        "id": "4ARwKkX1t5Lg"
      }
    },
    {
      "cell_type": "code",
      "source": [
        "# RUN\n",
        "print(\"YAAY!\")"
      ],
      "metadata": {
        "colab": {
          "base_uri": "https://localhost:8080/"
        },
        "id": "ntDIi8XWuJ0r",
        "outputId": "ae2b34c7-feae-4f23-ce64-148338b8493e"
      },
      "execution_count": 2,
      "outputs": [
        {
          "output_type": "stream",
          "name": "stdout",
          "text": [
            "YAAY!\n"
          ]
        }
      ]
    },
    {
      "cell_type": "code",
      "source": [
        "weightsfile = '/kaggle/input/data-for-yolo-v3-kernel/yolov3.weights'\n",
        "classfile = '/kaggle/input/data-for-yolo-v3-kernel/coco.names'\n",
        "cfgfile = '/kaggle/working/yolov3.cfg'\n",
        "sample_img1 = '/kaggle/working/input/dog-cycle-car.png'\n",
        "input_dir = '/kaggle/working/input'\n",
        "output_dir = '/kaggle/working/output'\n",
        "nms_thesh = 0.5"
      ],
      "metadata": {
        "id": "ETrW9mIYot-O"
      },
      "execution_count": null,
      "outputs": []
    }
  ]
}